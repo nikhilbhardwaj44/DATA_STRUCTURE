{
 "cells": [
  {
   "cell_type": "code",
   "execution_count": 4,
   "metadata": {},
   "outputs": [
    {
     "name": "stdout",
     "output_type": "stream",
     "text": [
      "MEHAK\n",
      "nikhil\n",
      "sharma\n"
     ]
    }
   ],
   "source": [
    "class Node:\n",
    "    def __init__(self,data):\n",
    "        self.data=data\n",
    "        self.next=None\n",
    "        \n",
    "class Linkedlist:\n",
    "    def __init__(self):\n",
    "        self.head=None\n",
    "    def printlist(self):\n",
    "        current=self.head\n",
    "        while(current!=None):\n",
    "            print(current.data)\n",
    "            current=current.next\n",
    "    def insertHead(self,newnode):\n",
    "        temp=self.head    #nikhil which is stored in temp\n",
    "        self.head=newnode\n",
    "        self.head.next=temp\n",
    "        del temp\n",
    "        \n",
    "    def insertEnd(self,newnode):\n",
    "        if self.head is None:\n",
    "            self.head=newnode\n",
    "        else:\n",
    "            lastnode=self.head\n",
    "            while True:\n",
    "                if lastnode.next is None:\n",
    "                    break\n",
    "                lastnode=lastnode.next\n",
    "            lastnode.next=newnode\n",
    "\n",
    "            \n",
    "            \n",
    "            \n",
    "            \n",
    "linkedlist=Linkedlist()\n",
    "firstnode=Node(\"nikhil\")\n",
    "linkedlist.insertEnd(firstnode)\n",
    "secondnode=Node(\"sharma\")\n",
    "linkedlist.insertEnd(secondnode)\n",
    "thirdnode=Node(\"MEHAK\")\n",
    "linkedlist.insertHead(thirdnode)\n",
    "linkedlist.printlist()"
   ]
  }
 ],
 "metadata": {
  "kernelspec": {
   "display_name": "Python 3",
   "language": "python",
   "name": "python3"
  },
  "language_info": {
   "codemirror_mode": {
    "name": "ipython",
    "version": 3
   },
   "file_extension": ".py",
   "mimetype": "text/x-python",
   "name": "python",
   "nbconvert_exporter": "python",
   "pygments_lexer": "ipython3",
   "version": "3.7.4"
  }
 },
 "nbformat": 4,
 "nbformat_minor": 2
}
